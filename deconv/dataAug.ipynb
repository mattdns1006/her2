{
 "cells": [
  {
   "cell_type": "code",
   "execution_count": 1,
   "metadata": {
    "collapsed": false
   },
   "outputs": [
    {
     "name": "stderr",
     "output_type": "stream",
     "text": [
      "/usr/local/lib/python2.7/dist-packages/matplotlib/font_manager.py:273: UserWarning: Matplotlib is building the font cache using fc-list. This may take a moment.\n",
      "  warnings.warn('Matplotlib is building the font cache using fc-list. This may take a moment.')\n"
     ]
    }
   ],
   "source": [
    "import openslide\n",
    "import cv2\n",
    "import numpy as np\n",
    "import matplotlib.pyplot as plt\n",
    "import matplotlib.cm as cm\n",
    "import pandas as pd\n",
    "from scipy.stats import mstats\n",
    "from functools import reduce\n",
    "from operator import mul\n",
    "import os\n",
    "import glob\n",
    "%matplotlib inline\n",
    "\n",
    "from pylab import rcParams\n",
    "rcParams['figure.figsize'] = 15, 15"
   ]
  },
  {
   "cell_type": "code",
   "execution_count": 2,
   "metadata": {
    "collapsed": false
   },
   "outputs": [],
   "source": [
    "def removeFiles(path):\n",
    "    \"\"\"\n",
    "    Remove all files in a path.\n",
    "    \"\"\"\n",
    "    files = glob.glob(path+\"*\")\n",
    "    for f in files:\n",
    "        #print(f)\n",
    "        os.remove(f)"
   ]
  },
  {
   "cell_type": "code",
   "execution_count": null,
   "metadata": {
    "collapsed": false
   },
   "outputs": [],
   "source": [
    "writePath = \"data/augmented/\"\n",
    "removeFiles(writePath)\n",
    "\n",
    "j = 0\n",
    "for f in glob.glob(\"data/*/7/HER2.jpg*\")[:]:\n",
    "    for i in xrange(50):\n",
    "        her2 = cv2.imread(f)\n",
    "        y1 = cv2.imread(f.replace(\"HER2.jpg\",\"y1.png\"),1)\n",
    "\n",
    "        rows,cols,dim = y1.shape\n",
    "        M = cv2.getRotationMatrix2D((cols/2,rows/2),np.random.uniform(-5,5),1)\n",
    "        tX, tY = np.random.randint(0,10,2)\n",
    "        M[0,2] = tX\n",
    "        M[1,2] = tY\n",
    "        her2,y1 = [cv2.warpAffine(img,M,(cols,rows),borderMode = 1) for img in [her2,y1]]\n",
    "\n",
    "        def show(img1,img2):\n",
    "            fig, (ax1, ax2) = plt.subplots(1,2)\n",
    "            ax1.set_title('X')\n",
    "            ax1.imshow(img1)\n",
    "            ax2.set_title('Y')\n",
    "            ax2.imshow(img2)\n",
    "            plt.show()\n",
    "\n",
    "        #print(writePath + \"x\" + str(j) + str(i) + \".jpg\")\n",
    "        cv2.imwrite(writePath + \"x\" + str(j) + \".jpg\",her2)\n",
    "        cv2.imwrite(writePath + \"y\" + str(j) + \".jpg\",y1)\n",
    "        \n",
    "        print(f)\n",
    "        he = cv2.imread(f.replace(\"HER2.jpg\",\"HE.jpg\"))\n",
    "        y1 = cv2.imread(f.replace(\"HER2.jpg\",\"yHE1.png\"),1)\n",
    "        \n",
    "\n",
    "        rows,cols,dim = y1.shape\n",
    "        M = cv2.getRotationMatrix2D((cols/2,rows/2),np.random.uniform(-10,10),1)\n",
    "        tX, tY = np.random.randint(0,15,2)\n",
    "        M[0,2] = tX\n",
    "        M[1,2] = tY\n",
    "        he,y1 = [cv2.warpAffine(img,M,(cols,rows),borderMode = 1) for img in [he,y1]]\n",
    "        #show(he,y1)\n",
    "        \n",
    "        j += 1\n",
    "        \n",
    "        cv2.imwrite(writePath + \"x\" + str(j) + \".jpg\",he)\n",
    "        cv2.imwrite(writePath + \"y\" + str(j) + \".jpg\",y1)\n",
    "        \n",
    "        j += 1\n",
    "        \n",
    "print(\"Total number of files generated = %d\" % j)"
   ]
  }
 ],
 "metadata": {
  "kernelspec": {
   "display_name": "Python 2",
   "language": "python",
   "name": "python2"
  },
  "language_info": {
   "codemirror_mode": {
    "name": "ipython",
    "version": 2
   },
   "file_extension": ".py",
   "mimetype": "text/x-python",
   "name": "python",
   "nbconvert_exporter": "python",
   "pygments_lexer": "ipython2",
   "version": "2.7.6"
  }
 },
 "nbformat": 4,
 "nbformat_minor": 0
}
