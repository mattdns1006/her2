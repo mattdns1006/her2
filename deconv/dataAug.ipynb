{
 "cells": [
  {
   "cell_type": "code",
   "execution_count": 2,
   "metadata": {
    "collapsed": false
   },
   "outputs": [
    {
     "name": "stderr",
     "output_type": "stream",
     "text": [
      "/usr/local/lib/python2.7/dist-packages/matplotlib/font_manager.py:273: UserWarning: Matplotlib is building the font cache using fc-list. This may take a moment.\n",
      "  warnings.warn('Matplotlib is building the font cache using fc-list. This may take a moment.')\n"
     ]
    }
   ],
   "source": [
    "import openslide\n",
    "import cv2\n",
    "import numpy as np\n",
    "import matplotlib.pyplot as plt\n",
    "import matplotlib.cm as cm\n",
    "import pandas as pd\n",
    "from scipy.stats import mstats\n",
    "from functools import reduce\n",
    "from operator import mul\n",
    "import os\n",
    "import glob\n",
    "%matplotlib inline\n",
    "\n",
    "from pylab import rcParams\n",
    "rcParams['figure.figsize'] = 15, 15"
   ]
  },
  {
   "cell_type": "code",
   "execution_count": 8,
   "metadata": {
    "collapsed": false
   },
   "outputs": [],
   "source": [
    "def removeFiles(path):\n",
    "    \"\"\"\n",
    "    Remove all files in a path.\n",
    "    \"\"\"\n",
    "    files = glob.glob(path+\"*\")\n",
    "    for f in files:\n",
    "        #print(f)\n",
    "        os.remove(f)"
   ]
  },
  {
   "cell_type": "code",
   "execution_count": 5,
   "metadata": {
    "collapsed": false
   },
   "outputs": [
    {
     "name": "stdout",
     "output_type": "stream",
     "text": [
      "Total number of files generated = 2600\n"
     ]
    }
   ],
   "source": [
    "writePath = \"data/augmented/\"\n",
    "removeFiles(writePath)\n",
    "\n",
    "j = 0\n",
    "for f in glob.glob(\"data/*/7/HER2.jpg*\")[:]:\n",
    "    for i in xrange(50):\n",
    "        her2 = cv2.imread(f)\n",
    "        y1 = cv2.imread(f.replace(\"HER2.jpg\",\"y1.png\"),1)\n",
    "\n",
    "        rows,cols,dim = y1.shape\n",
    "        M = cv2.getRotationMatrix2D((cols/2,rows/2),np.random.uniform(-5,5),1)\n",
    "        tX, tY = np.random.randint(0,10,2)\n",
    "        M[0,2] = tX\n",
    "        M[1,2] = tY\n",
    "        her2,y1 = [cv2.warpAffine(img,M,(cols,rows),borderMode = 1) for img in [her2,y1]]\n",
    "\n",
    "        def show():\n",
    "            fig, (ax1, ax2) = plt.subplots(1,2)\n",
    "            ax1.set_title('HER2')\n",
    "            ax1.imshow(her2)\n",
    "            ax2.set_title('Y1')\n",
    "            ax2.imshow(y1)\n",
    "            plt.show()\n",
    "\n",
    "        #print(writePath + \"x\" + str(j) + str(i) + \".jpg\")\n",
    "        cv2.imwrite(writePath + \"x\" + str(j) + \".jpg\",her2)\n",
    "        cv2.imwrite(writePath + \"y\" + str(j) + \".jpg\",y1)\n",
    "        \n",
    "        j += 1\n",
    "print(\"Total number of files generated = %d\" % j)"
   ]
  },
  {
   "cell_type": "code",
   "execution_count": 7,
   "metadata": {
    "collapsed": false
   },
   "outputs": [
    {
     "name": "stdout",
     "output_type": "stream",
     "text": [
      "data/roi_70/7/HER2.jpg\n",
      "data/roi_49/7/HER2.jpg\n",
      "data/roi_65/7/HER2.jpg\n",
      "data/roi_1/7/HER2.jpg\n",
      "data/roi_82/7/HER2.jpg\n",
      "data/roi_4/7/HER2.jpg\n",
      "data/roi_19/7/HER2.jpg\n",
      "data/roi_66/7/HER2.jpg\n",
      "data/roi_15/7/HER2.jpg\n",
      "data/roi_22/7/HER2.jpg\n",
      "data/roi_73/7/HER2.jpg\n",
      "data/roi_25/7/HER2.jpg\n",
      "data/roi_87/7/HER2.jpg\n",
      "data/roi_50/7/HER2.jpg\n",
      "data/roi_29/7/HER2.jpg\n",
      "data/roi_67/7/HER2.jpg\n",
      "data/roi_84/7/HER2.jpg\n",
      "data/roi_63/7/HER2.jpg\n",
      "data/roi_61/7/HER2.jpg\n",
      "data/roi_16/7/HER2.jpg\n",
      "data/roi_46/7/HER2.jpg\n",
      "data/roi_12/7/HER2.jpg\n",
      "data/roi_18/7/HER2.jpg\n",
      "data/roi_11/7/HER2.jpg\n",
      "data/roi_74/7/HER2.jpg\n",
      "data/roi_79/7/HER2.jpg\n",
      "data/roi_48/7/HER2.jpg\n",
      "data/roi_36/7/HER2.jpg\n",
      "data/roi_35/7/HER2.jpg\n",
      "data/roi_30/7/HER2.jpg\n",
      "data/roi_27/7/HER2.jpg\n",
      "data/roi_14/7/HER2.jpg\n",
      "data/roi_32/7/HER2.jpg\n",
      "data/roi_33/7/HER2.jpg\n",
      "data/roi_40/7/HER2.jpg\n",
      "data/roi_86/7/HER2.jpg\n",
      "data/roi_68/7/HER2.jpg\n",
      "data/roi_38/7/HER2.jpg\n",
      "data/roi_9/7/HER2.jpg\n",
      "data/roi_47/7/HER2.jpg\n",
      "data/roi_6/7/HER2.jpg\n",
      "data/roi_52/7/HER2.jpg\n",
      "data/roi_55/7/HER2.jpg\n",
      "data/roi_34/7/HER2.jpg\n",
      "data/roi_24/7/HER2.jpg\n",
      "data/roi_88/7/HER2.jpg\n",
      "data/roi_58/7/HER2.jpg\n",
      "data/roi_26/7/HER2.jpg\n",
      "data/roi_39/7/HER2.jpg\n",
      "data/roi_83/7/HER2.jpg\n",
      "data/roi_57/7/HER2.jpg\n",
      "data/roi_13/7/HER2.jpg\n"
     ]
    }
   ],
   "source": [
    "for f in glob.glob(\"data/*/7/HER2.jpg*\")[:]:\n",
    "    print(f)"
   ]
  }
 ],
 "metadata": {
  "kernelspec": {
   "display_name": "Python 2",
   "language": "python",
   "name": "python2"
  },
  "language_info": {
   "codemirror_mode": {
    "name": "ipython",
    "version": 2
   },
   "file_extension": ".py",
   "mimetype": "text/x-python",
   "name": "python",
   "nbconvert_exporter": "python",
   "pygments_lexer": "ipython2",
   "version": "2.7.6"
  }
 },
 "nbformat": 4,
 "nbformat_minor": 0
}
