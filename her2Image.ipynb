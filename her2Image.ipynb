{
 "cells": [
  {
   "cell_type": "code",
   "execution_count": 3,
   "metadata": {
    "collapsed": false
   },
   "outputs": [
    {
     "name": "stderr",
     "output_type": "stream",
     "text": [
      "/usr/local/lib/python2.7/dist-packages/matplotlib/font_manager.py:273: UserWarning: Matplotlib is building the font cache using fc-list. This may take a moment.\n",
      "  warnings.warn('Matplotlib is building the font cache using fc-list. This may take a moment.')\n"
     ]
    }
   ],
   "source": [
    "import openslide\n",
    "import cv2\n",
    "import numpy as np\n",
    "import matplotlib.pyplot as plt\n",
    "import matplotlib.cm as cm\n",
    "import pandas as pd\n",
    "from scipy.stats import mstats\n",
    "from functools import reduce\n",
    "from operator import mul\n",
    "import os\n",
    "import glob\n",
    "%matplotlib inline\n",
    "\n",
    "from pylab import rcParams\n",
    "rcParams['figure.figsize'] = 5, 5"
   ]
  },
  {
   "cell_type": "code",
   "execution_count": 4,
   "metadata": {
    "collapsed": true
   },
   "outputs": [],
   "source": [
    "\"\"\"\n",
    "Helper functions.\n",
    "\"\"\"\n",
    "\n",
    "def closestLevel(levelDims,w):\n",
    "    differences = map(lambda dim: (abs(dim[1]-w), abs(dim[1]-w)),levelDims)\n",
    "    areas = map(lambda levelDims: reduce(mul,levelDims),(differences))\n",
    "    level = [idx for idx,area in enumerate(areas) if area == min(areas)][0]\n",
    "    return level\n",
    "\n",
    "\n",
    "def blockshaped(arr, nrows, ncols):\n",
    "    \"\"\"\n",
    "    Return an array of shape (n, nrows, ncols) where\n",
    "    n * nrows * ncols = arr.size\n",
    "\n",
    "    If arr is a 2D array, the returned array should look like n subblocks with\n",
    "    each subblock preserving the \"physical\" layout of arr.\n",
    "    \"\"\"\n",
    "    h, w = arr.shape\n",
    "    return (arr.reshape(h/int(nrows), nrows, -1, ncols)\n",
    "               .swapaxes(1,2)\n",
    "               .reshape(-1, nrows, ncols))\n",
    "\n",
    "def pad(arr,windowSize):\n",
    "    \n",
    "    \"\"\"\n",
    "    Pads array to be divisible by window size.\n",
    "    \"\"\"\n",
    "    \n",
    "    divisible = False\n",
    "    while divisible == False:\n",
    "        if  arr.shape[0] % windowSize != 0:\n",
    "            arr = np.pad(arr,((0,2),(0,0)),\"constant\")\n",
    "        if  arr.shape[1] % windowSize != 0:\n",
    "            arr = np.pad(arr,((0,0),(0,2)),\"constant\")\n",
    "\n",
    "        if all([dim % windowSize ==0 for dim in arr.shape])==True:\n",
    "                divisible = True\n",
    "    return arr\n",
    "\n",
    "def getBoxCoords(blocksPair,level,upscaleLevel):\n",
    "    \n",
    "    \"\"\"\n",
    "    Returns information to load region of high resolution image. Given indicies blocks for x and y,\n",
    "    low resolution image level and desired output level.\n",
    "    \"\"\"\n",
    "    x = blocksPair[1]\n",
    "    x1 = x[0][0] -1 \n",
    "    x2 = x[0][-1]\n",
    "    y = blocksPair[0]\n",
    "    y1 = y[0][0] -1 \n",
    "    y2 = y[-1][0]\n",
    "    #print(\"X\",x1,x2)\n",
    "    #print(\"Y\",y1,y2)\n",
    "    upscaledX0 = map(lambda coord: np.power(2,level)*coord, (x1,x2)) #Level 0 x coords needed for region initial value\n",
    "    upscaledY0 = map(lambda coord: np.power(2,level)*coord, (y1,y2)) #Level 1 y coords needed for region initial value\n",
    "    location = (upscaledX0[0],upscaledY0[0])\n",
    "    upscaledX = map(lambda coord: np.power(2,level-upscaleLevel)*coord, (x1,x2))\n",
    "    upscaledY = map(lambda coord: np.power(2,level-upscaleLevel)*coord, (y1,y2))\n",
    "    size = ((upscaledX[1] - upscaledX[0]),(upscaledY[1] - upscaledY[0]))\n",
    "    return location, size, ((x1,x2),(y1,y2))\n",
    "\n",
    "percentage255 = lambda block: np.sum(block==255).astype(\"float64\")/block.size # Calculates percentage of array = 255.\n",
    "\n",
    "def removeFiles(path):\n",
    "    \"\"\"\n",
    "    Remove all files in a path.\n",
    "    \"\"\"\n",
    "    files = glob.glob(path+\"*\")\n",
    "    for f in files:\n",
    "        os.remove(f)\n",
    "        \n",
    "    \n",
    "#Remove black\n",
    "def removeBlack(img,blackThresh):\n",
    "    img\n",
    "    black = np.logical_and.reduce((img[:,:,0] > blackThresh,\n",
    "                                   img[:,:,1] > blackThresh,\n",
    "                                   img[:,:,2] > blackThresh, \n",
    "                                   img[:,:,3] > blackThresh))\n",
    "    black4 = np.dstack([black for i in range(3)])\n",
    "    img[np.logical_not(black4)] = mstats.mode(img[:,:,:3],axis=None)[0]"
   ]
  },
  {
   "cell_type": "code",
   "execution_count": 5,
   "metadata": {
    "collapsed": false,
    "scrolled": false
   },
   "outputs": [],
   "source": [
    "\"\"\"\n",
    "Main image object.\n",
    "\"\"\"\n",
    "\n",
    "class her2Image():\n",
    "    def __init__(self,caseNumber,threshArea,threshMargin,upscaleWindowSize,upscaleLevel,blackThresh,blurSize):\n",
    "        \n",
    "        case = groundTruth.loc[groundTruth.CaseNo==caseNumber]\n",
    "        self.score, self.percScore = case[\"HeR2 SCORE\"].values[0], case[\"PERCENTAGE CELLS WITH COMPLETE MEMBRANE STAINING IRRESPECTIVE OF INTENSITY\"].values[0]\n",
    "\n",
    "        self.her2 = openslide.open_slide('data/'+str(caseNumber)+'_HER2.ndpi') # Main image object in wdi format\n",
    "        self.he = openslide.open_slide('data/'+str(caseNumber)+'_HE.ndpi')\n",
    "        #self.he = openslide.open_slide('data/'+str(caseNumber)+'_HE.ndpi')\n",
    "        self.nLevels = self.her2.level_count # Number of levels\n",
    "            \n",
    "        #self.level = closestLevel(self.her2.level_dimensions,1000)\n",
    "        self.level = 6\n",
    "        self.lowResDims,self.lowResDimsHE = [x.level_dimensions[self.level] for x in [self.her2,self.he]] #3 is arbitrary but works\n",
    "        self.lowResRGB, self.lowResRGBHE = [np.asarray(x[0].read_region((0,0),\n",
    "                    self.level,(x[1][0],x[1][1]))).copy() for x in [(self.her2,self.lowResDims),\n",
    "                                                                                          (self.he,self.lowResDimsHE)]] \n",
    "\n",
    "\n",
    "        #[removeBlack(img,blackThresh) for img in [self.lowResRGB,self.lowResRGBHE]]\n",
    "        \n",
    "        \n",
    "        self.lowRes, self.lowResHE = [cv2.cvtColor(img, cv2.COLOR_RGB2GRAY) for img in self.lowResRGB, self.lowResRGBHE]  # Grayscale\n",
    "        self.mode, self.modeHE = [mstats.mode(img,axis=None)[0] for img in [self.lowRes, self.lowResHE]]\n",
    "        \n",
    "        # Thresholded image\n",
    "        def thresh(img,threshMargin,blurSize):\n",
    "            img = cv2.GaussianBlur(img,(blurSize,blurSize),0)\n",
    "            _,thresh = cv2.threshold(img,mstats.mode(img,axis=None)[0]-threshMargin,255,1)\n",
    "            return thresh\n",
    "        self.thresh, self.threshHE = [thresh(img,threshMargin,blurSize) for img in [self.lowRes, self.lowResHE]]\n",
    "        \n",
    "        # Padd lowRes image and thresholded to make factors\n",
    "        nrows = ncols = upscaleWindowSize/np.power(2,self.level-upscaleLevel)\n",
    "        self.lowRes, self.thresh = [pad(arr,nrows) for arr in (self.lowRes, self.thresh)]\n",
    "        \n",
    "        coordsX,coordsY = np.indices((self.lowRes.shape[0],self.lowRes.shape[1]))\n",
    "        blocksX,blocksY = blockshaped(coordsX,nrows,ncols),blockshaped(coordsY,nrows,ncols)\n",
    "        blocksThresh = blockshaped(self.thresh,nrows,ncols)\n",
    "        blocksLowRes = blockshaped(self.lowRes,nrows,ncols)\n",
    "\n",
    "        self.relaventCoords = [] # ROIs\n",
    "\n",
    "        #featureBlocks = np.where(np.any(blocksThresh==255,axis=(1,2)))[0]\n",
    "        featureBlocks = np.where(np.array([percentage255(block) for block in blocksThresh])>threshArea)[0] # Percentage covered\n",
    "        for block in featureBlocks:\n",
    "            self.relaventCoords.append((blocksX[block],blocksY[block]))\n",
    "        \n",
    "    def show(self):\n",
    "        \n",
    "        plt.imshow(self.lowResRGB)\n",
    "        plt.title((\"Mode = %d, score = %d and percScore = %d.\" % (self.mode,self.score,self.percScore)))\n",
    "        plt.show()\n",
    "        plt.imshow(self.thresh,cmap=cm.gray)\n",
    "        plt.show()\n",
    "             \n",
    "    def regionGen(self,upscaleLevel,colour=False): \n",
    "        for i in range(len(self.relaventCoords)):\n",
    "            location, size, ((x1,x2),(y1,y2)) = getBoxCoords(self.relaventCoords[i],self.level,upscaleLevel)\n",
    "            if colour==True:\n",
    "                thickness = 20\n",
    "            else:\n",
    "                thickness = 2\n",
    "            cv2.rectangle(self.lowResRGB, (x1, y1), (x2, y2), (255,0,0), thickness)\n",
    "            region = np.asarray(eg.her2.read_region((location[0],location[1]),upscaleLevel,(size[0],size[1])))\n",
    "            yield region\n",
    "            \n"
   ]
  },
  {
   "cell_type": "code",
   "execution_count": 9,
   "metadata": {
    "collapsed": false
   },
   "outputs": [],
   "source": [
    "# Hyperparams\n",
    "numberOfRegions = []\n",
    "imagesWithLines = [84,82,35]\n",
    "\n",
    "threshArea = 0.25\n",
    "threshMargin = 8\n",
    "save = 0\n",
    "show = 1\n",
    "displayProb = 0.01\n",
    "blackThresh = 120\n",
    "blurSize = 47\n",
    "upscaleLevels = [5,4,3,2,1]\n",
    "upscaleLevel = 5\n",
    "upscaleWindowSize = np.power(2,12-upscaleLevel)\n",
    "writePath = \"/home/msmith/her2/data/\"\n",
    "groundTruth = pd.read_csv(\"data/groundTruth.csv\")\n",
    "cols = {1: \"CaseNo\", 2: \"HeR2 SCORE\",\n",
    "       3:\"PERCENTAGE CELLS WITH COMPLETE MEMBRANE STAINING IRRESPECTIVE OF INTENSITY\"}\n",
    "\n",
    "#Filter model params\n",
    "def filterPaths ():\n",
    "    writePath = \"/home/msmith/her2/filter/data/\"\n",
    "    upscaleLevels = [5]\n",
    "    threshArea = 0.25\n",
    "    threshMargin = -40"
   ]
  },
  {
   "cell_type": "code",
   "execution_count": null,
   "metadata": {
    "collapsed": false,
    "scrolled": true
   },
   "outputs": [],
   "source": [
    "if __name__ == \"__main__\":\n",
    "\n",
    "\n",
    "    for upscaleLevel in upscaleLevels: # For each level\n",
    "       \n",
    "        upscaleWindowSize = np.power(2,12-upscaleLevel)\n",
    "        print(\"===\"*40)\n",
    "        print(\"Upscale level %d\" %upscaleLevel)\n",
    "        print(\"===\"*40)\n",
    "\n",
    "        # Dimensions check\n",
    "        dims = []\n",
    "\n",
    "        # Generate ROIs and saave jpg\n",
    "        #for caseNo in groundTruth.CaseNo.values[:]:\n",
    "        for caseNo in imagesWithLines:\n",
    "\n",
    "            nRegions = 0\n",
    "\n",
    "            newpath = writePath + \"roi_\" + str(caseNo).zfill(3)  + \"/\" + str(upscaleLevel) + \"/\"\n",
    "            if save == 1:\n",
    "                removeFiles(newpath)\n",
    "                if not os.path.exists(newpath):\n",
    "                    os.makedirs(newpath)\n",
    "\n",
    "            eg = her2Image(caseNo,threshArea,threshMargin,upscaleWindowSize,upscaleLevel,blackThresh,blurSize)\n",
    "            print(\"===\"*40)\n",
    "            print(\"===\"*40)\n",
    "            print(\"Image %d with score of %d, percScore of %d. Region sizes generated %d.\" % (caseNo,eg.score,eg.percScore,upscaleWindowSize))\n",
    "            regions = eg.regionGen(upscaleLevel) # region object\n",
    "            regionNo = 0\n",
    "            caseDims = [] \n",
    "            for region in regions:\n",
    "                nRegions += 1\n",
    "                if np.random.uniform() < displayProb and show == 1:\n",
    "                    plt.imshow(region)\n",
    "                    plt.show()\n",
    "                if save == 1:\n",
    "                    region = region[:,:,:3] # remove alpha\n",
    "                    region = region[:,:,::-1] # swap rgb\n",
    "                    cv2.imwrite(newpath + str(regionNo).zfill(4) + \".jpg\",region)\n",
    "                regionNo += 1\n",
    "                caseDims.append(region.shape)\n",
    "                #print(\"All alpha values == 255? %r\" % np.all(region[:,:,3]==255))\n",
    "\n",
    "            dims.append(caseDims)\n",
    "            eg.show()\n",
    "            numberOfRegions.append(nRegions)\n",
    "            print(\"Number of regions generated at level %d = %d with dimension %d x %d x 3.\" % (eg.level,nRegions,caseDims[0][0],caseDims[0][1]))\n",
    "\n",
    "    print(\"Smallest y: \", min([x[0][0] for x in dims]))\n",
    "    print(\"Smallets x: \", min([x[0][1] for x in dims]))\n",
    "\n",
    "    print(\"Biggest y: \", max([x[0][0] for x in dims]))\n",
    "    print(\"Biggest x: \", max([x[0][1] for x in dims]))\n",
    "\n",
    "    print(\"Number of regions generated: \",numberOfRegions)"
   ]
  },
  {
   "cell_type": "markdown",
   "metadata": {},
   "source": [
    "# For filter model"
   ]
  },
  {
   "cell_type": "code",
   "execution_count": null,
   "metadata": {
    "collapsed": false
   },
   "outputs": [],
   "source": [
    "def filterModelImages():\n",
    "    filePaths = []\n",
    "    for filePath in glob.glob(\"/home/msmith/her2/filter/data/*/*/*.jpg\"):\n",
    "        filePaths.append(filePath)\n",
    "    pd.DataFrame(filePaths).to_csv(\"filterDataExtra.csv\")"
   ]
  },
  {
   "cell_type": "markdown",
   "metadata": {},
   "source": [
    "# Exploratory for template matching between HER2 and HE image"
   ]
  },
  {
   "cell_type": "code",
   "execution_count": null,
   "metadata": {
    "collapsed": true
   },
   "outputs": [],
   "source": [
    "from scipy import ndimage\n",
    "\n",
    "def getBlobs(img,thresh,show=0):\n",
    "    blobs, numberOfBlobs = ndimage.label(img)\n",
    "    objs = ndimage.find_objects(blobs)\n",
    "    significantObjects = []\n",
    "    for i in range(len(objs)):\n",
    "        obj = objs[i]\n",
    "        area = (obj[0].stop - obj[0].start)*(obj[1].stop - obj[1].start)\n",
    "\n",
    "        if float(area)/img.size > thresh:\n",
    "            significantObjects.append(obj)\n",
    "            if show == 1:\n",
    "                plt.imshow(img[obj])\n",
    "                plt.show()\n",
    "    if len(significantObjects)==0:\n",
    "        return getBlobs(img,thresh-0.01)\n",
    "    else:\n",
    "        return significantObjects"
   ]
  },
  {
   "cell_type": "code",
   "execution_count": 47,
   "metadata": {
    "collapsed": false,
    "scrolled": true
   },
   "outputs": [
    {
     "name": "stdout",
     "output_type": "stream",
     "text": [
      "**********\n",
      "CaseNo 13\n",
      "**********\n",
      "Template 1 out of 2\n"
     ]
    },
    {
     "data": {
      "image/png": "[encoded data removed]",
      "text/plain": [
       "<matplotlib.figure.Figure at 0x7f802a287610>"
      ]
     },
     "metadata": {},
     "output_type": "display_data"
    },
    {
     "data": {
      "image/png": "[encoded data removed]",
      "text/plain": [
       "<matplotlib.figure.Figure at 0x7f80290cc3d0>"
      ]
     },
     "metadata": {},
     "output_type": "display_data"
    },
    {
     "name": "stdout",
     "output_type": "stream",
     "text": [
      "Template 2 out of 2\n"
     ]
    },
    {
     "data": {
      "image/png": "[encoded data removed]",
      "text/plain": [
       "<matplotlib.figure.Figure at 0x7f80295de1d0>"
      ]
     },
     "metadata": {},
     "output_type": "display_data"
    },
    {
     "data": {
      "image/png": "[encoded data removed]",
      "text/plain": [
       "<matplotlib.figure.Figure at 0x7f802921da50>"
      ]
     },
     "metadata": {},
     "output_type": "display_data"
    },
    {
     "data": {
      "image/png": "[encoded data removed]",
      "text/plain": [
       "<matplotlib.figure.Figure at 0x7f802a287810>"
      ]
     },
     "metadata": {},
     "output_type": "display_data"
    }
   ],
   "source": [
    "def templateMatch(img,templateImg,areaThresh,angleInterval):\n",
    "    method = eval('cv2.TM_CCOEFF')\n",
    "    templates = getBlobs(templateImg,areaThresh,0)\n",
    "    boxes = []\n",
    "    img2 = img.copy()\n",
    "    \n",
    "    # For every template in our set of templates\n",
    "    for temp in templates:\n",
    "        print(\"Template %d out of %d\"%(templates.index(temp)+1,len(templates)))\n",
    "        plt.imshow(templateImg[temp])\n",
    "        plt.show()\n",
    "        \n",
    "        bestRotationAngle = 0\n",
    "        highestMaxVal = 0\n",
    "        bestCoords = None\n",
    "        \n",
    "        # Rotate each template throughout 360 to find best match based on maximum value generated by match template\n",
    "        for angle in np.arange(0,360,angleInterval):\n",
    "            \n",
    "            dst = ndimage.rotate(templateImg[temp], angle) # dst is new name for rotated template\n",
    "            \n",
    "            (wImg,hImg),(wDst,hDst) = img.shape[::-1], dst.shape[::-1]\n",
    "            if wImg < wDst:\n",
    "                wDiff = wDst - wImg\n",
    "                dst = dst[wDiff/2:(wDst-wDiff/2-1)]\n",
    "                print(\"too wide %d < %d\" %(wImg,wDst))\n",
    "                print(dst.shape)\n",
    "            if hImg < hDst:\n",
    "                hDiff = hDst - hImg\n",
    "                dst = dst[hDiff/2:(hDst-hDiff/2-1)]\n",
    "                print(\"too tall %d < %d\" %(hImg,hDst))\n",
    "                print(dst.shape)\n",
    "            \n",
    "            w, h = dst.shape[::-1]\n",
    "            \n",
    "            #plt.imshow(dst)\n",
    "            #plt.title(\"Angle of %d\" % angle)\n",
    "            #plt.show()\n",
    "            \n",
    "            #try:\n",
    "            # Apply template matching\n",
    "            res = cv2.matchTemplate(img2,dst,method)\n",
    "            minVal, maxVal, minLoc, maxLoc = cv2.minMaxLoc(res)\n",
    "            if method in [cv2.TM_SQDIFF, cv2.TM_SQDIFF_NORMED]:\n",
    "                topLeft = minLoc\n",
    "            else:\n",
    "                topLeft = maxLoc\n",
    "            bottomRight = (topLeft[0] + w, topLeft[1] + h)\n",
    "            if maxVal > highestMaxVal:\n",
    "                bestCoords = (topLeft,bottomRight,w,h)\n",
    "                highestMaxVal = maxVal\n",
    "                bestRotationAngle = angle\n",
    "            #except:\n",
    "                #pass\n",
    "            \n",
    "            \n",
    "        cv2.rectangle(img2,bestCoords[0], bestCoords[1], 255, 20)\n",
    "        boxes.append({\"topLeft\":bestCoords[0],\"w\":bestCoords[2],\"h\":bestCoords[3]})\n",
    "        plt.imshow(img2,cmap=cm.gray)\n",
    "        plt.show()\n",
    "        \n",
    "    # Make thresholded image\n",
    "    mask = np.zeros(img2.shape,np.uint8)\n",
    "    for box in boxes:\n",
    "        topLeft = box.get(\"topLeft\")\n",
    "        w = box.get(\"w\")\n",
    "        h = box.get(\"h\")\n",
    "        mask[topLeft[1]:topLeft[1]+h,topLeft[0]:topLeft[0]+w] = img2[topLeft[1]:topLeft[1]+h,topLeft[0]:topLeft[0]+w]\n",
    "\n",
    "    plt.imshow(mask,cmap=cm.gray)\n",
    "    plt.show()\n",
    "\n",
    "\n",
    "for caseNo in groundTruth.CaseNo.values[6:7]:\n",
    "    print(\"*\"*10)\n",
    "    print(\"CaseNo %d\" % caseNo)\n",
    "    print(\"*\"*10)\n",
    "    eg = her2Image(caseNo,threshArea,threshMargin,upscaleWindowSize,upscaleLevel,blackThresh,blurSize)\n",
    "    templateMatch(eg.thresh,eg.threshHE,0.04,angleInterval = 90)\n",
    "    #plt.imshow(eg.lowResRGB)\n",
    "    #plt.show()"
   ]
  }
 ],
 "metadata": {
  "kernelspec": {
   "display_name": "Python 2",
   "language": "python",
   "name": "python2"
  },
  "language_info": {
   "codemirror_mode": {
    "name": "ipython",
    "version": 2
   },
   "file_extension": ".py",
   "mimetype": "text/x-python",
   "name": "python",
   "nbconvert_exporter": "python",
   "pygments_lexer": "ipython2",
   "version": "2.7.6"
  }
 },
 "nbformat": 4,
 "nbformat_minor": 0
}
